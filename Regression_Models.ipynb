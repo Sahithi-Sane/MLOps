{
 "cells": [
  {
   "cell_type": "code",
   "execution_count": 9,
   "id": "fb9cf03a-cead-4e7a-a2c5-beb39a395abe",
   "metadata": {},
   "outputs": [],
   "source": [
    "import os\n",
    "import pandas as pd\n",
    "import joblib\n",
    "from sklearn.model_selection import train_test_split\n",
    "from sklearn.linear_model import LinearRegression\n",
    "from sklearn.metrics import mean_squared_error"
   ]
  },
  {
   "cell_type": "code",
   "execution_count": 3,
   "id": "4c095c7d-d20d-40f8-b4c5-595d5b2c2a60",
   "metadata": {},
   "outputs": [],
   "source": [
    "def find_best_features(df, target_col):\n",
    "    \"\"\"Find the best single and pair of features based on MSE.\"\"\"\n",
    "    feature_cols = ['x1', 'x2', 'x3', 'x4']\n",
    "    mse_scores = {}\n",
    "    \n",
    "    # Evaluate each feature individually\n",
    "    for col in feature_cols:\n",
    "        X_train, X_test, y_train, y_test = train_test_split(df[[col]], df[target_col], test_size=0.2, random_state=42)\n",
    "        model = LinearRegression()\n",
    "        model.fit(X_train, y_train)\n",
    "        predictions = model.predict(X_test)\n",
    "        mse_scores[col] = mean_squared_error(y_test, predictions)\n",
    "    \n",
    "    # Identify the best single feature\n",
    "    best_single_feature = min(mse_scores, key=mse_scores.get)\n",
    "    \n",
    "    # Identify the best pair of features\n",
    "    best_two_features = sorted(mse_scores, key=mse_scores.get)[:2]\n",
    "    \n",
    "    return best_single_feature, best_two_features"
   ]
  },
  {
   "cell_type": "code",
   "execution_count": 4,
   "id": "1e031d60-6a54-48c7-91f4-65185e279f5d",
   "metadata": {},
   "outputs": [],
   "source": [
    "def train_model(features, target, model_name):\n",
    "    \"\"\"Train a linear regression model and save it.\"\"\"\n",
    "    X_train, X_test, y_train, y_test = train_test_split(features, target, test_size=0.2, random_state=42)\n",
    "    model = LinearRegression()\n",
    "    model.fit(X_train, y_train)\n",
    "    predictions = model.predict(X_test)\n",
    "    mse = mean_squared_error(y_test, predictions)\n",
    "    print(f\"{model_name} - MSE: {mse:.4f}\")\n",
    "    \n",
    "    # Save the model\n",
    "    os.makedirs(\"models\", exist_ok=True)\n",
    "    joblib.dump(model, f\"models/{model_name}.pkl\")"
   ]
  },
  {
   "cell_type": "code",
   "execution_count": 5,
   "id": "e34f8bc5-f48c-42fc-8e25-767f18ae0ab6",
   "metadata": {},
   "outputs": [],
   "source": [
    "data_path = \"sampregdata.csv\"\n",
    "df = pd.read_csv(data_path)"
   ]
  },
  {
   "cell_type": "code",
   "execution_count": 6,
   "id": "e6860274-0c8e-4e1a-a99a-442da69e7889",
   "metadata": {},
   "outputs": [],
   "source": [
    "best_single_feature, best_two_features = find_best_features(df, 'y')   "
   ]
  },
  {
   "cell_type": "code",
   "execution_count": 7,
   "id": "4e488267-9121-4336-9bad-503d5d47166f",
   "metadata": {},
   "outputs": [
    {
     "name": "stdout",
     "output_type": "stream",
     "text": [
      "Best single feature: x4\n",
      "Best two features: ['x4', 'x2']\n"
     ]
    }
   ],
   "source": [
    "print(f\"Best single feature: {best_single_feature}\")\n",
    "print(f\"Best two features: {best_two_features}\")"
   ]
  },
  {
   "cell_type": "code",
   "execution_count": 10,
   "id": "a4b4eafb-12a8-40a3-925a-81fb0f3dc36d",
   "metadata": {},
   "outputs": [
    {
     "name": "stdout",
     "output_type": "stream",
     "text": [
      "linear_model_x1 - MSE: 76.8527\n"
     ]
    }
   ],
   "source": [
    "#model1 = train_model(df[[best_single_feature]], df['y'], \"linear_model_x1\")"
   ]
  },
  {
   "cell_type": "code",
   "execution_count": 11,
   "id": "ab1d938f-d7ac-4fc5-a924-ba58498e4b93",
   "metadata": {},
   "outputs": [
    {
     "name": "stdout",
     "output_type": "stream",
     "text": [
      "linear_model_x1_x2 - MSE: 53.6211\n"
     ]
    }
   ],
   "source": [
    "#model2 =  train_model(df[best_two_features], df['y'], \"linear_model_x1_x2\")"
   ]
  },
  {
   "cell_type": "code",
   "execution_count": 13,
   "id": "e09fb64e-2acd-4cfa-b384-e5e7238a773d",
   "metadata": {},
   "outputs": [],
   "source": [
    "#To load the pretrained models use this cell\n",
    "model_x1 = joblib.load(\"models/linear_model_x1.pkl\")\n",
    "model_x1_x2 = joblib.load(\"models/linear_model_x1_x2.pkl\")"
   ]
  },
  {
   "cell_type": "code",
   "execution_count": 14,
   "id": "63075a04-b177-4749-af73-0159676a7025",
   "metadata": {},
   "outputs": [],
   "source": [
    "# Make predictions and calculate MSE\n",
    "y_true = df[\"y\"]"
   ]
  },
  {
   "cell_type": "code",
   "execution_count": 15,
   "id": "8ec1ee7d-9ee2-49e9-b305-fbb2e15c6b19",
   "metadata": {},
   "outputs": [
    {
     "name": "stdout",
     "output_type": "stream",
     "text": [
      "Model 1 (X1) - MSE: 83.2400\n"
     ]
    }
   ],
   "source": [
    "y_pred_x1 = model_x1.predict(df[[best_single_feature]])\n",
    "mse_x1 = mean_squared_error(y_true, y_pred_x1)\n",
    "print(f\"Model 1 (X1) - MSE: {mse_x1:.4f}\")"
   ]
  },
  {
   "cell_type": "code",
   "execution_count": 16,
   "id": "a35106fa-da68-4556-af8a-7eb3e19a8aa0",
   "metadata": {},
   "outputs": [
    {
     "name": "stdout",
     "output_type": "stream",
     "text": [
      "Model 2 (X1 & X2) - MSE: 55.8585\n"
     ]
    }
   ],
   "source": [
    "y_pred_x1_x2 = model_x1_x2.predict(df[best_two_features])\n",
    "mse_x1_x2 = mean_squared_error(y_true, y_pred_x1_x2)\n",
    "print(f\"Model 2 (X1 & X2) - MSE: {mse_x1_x2:.4f}\")"
   ]
  },
  {
   "cell_type": "code",
   "execution_count": 17,
   "id": "f34c3e7c-92d1-4901-9a39-70830a9d293e",
   "metadata": {},
   "outputs": [
    {
     "name": "stdout",
     "output_type": "stream",
     "text": [
      "Models have been trained and saved successfully.\n"
     ]
    }
   ],
   "source": [
    "print(\"Models have been trained and saved successfully.\")"
   ]
  }
 ],
 "metadata": {
  "kernelspec": {
   "display_name": "Python 3 (ipykernel)",
   "language": "python",
   "name": "python3"
  },
  "language_info": {
   "codemirror_mode": {
    "name": "ipython",
    "version": 3
   },
   "file_extension": ".py",
   "mimetype": "text/x-python",
   "name": "python",
   "nbconvert_exporter": "python",
   "pygments_lexer": "ipython3",
   "version": "3.11.5"
  }
 },
 "nbformat": 4,
 "nbformat_minor": 5
}
